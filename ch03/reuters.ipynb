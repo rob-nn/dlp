{
 "cells": [
  {
   "cell_type": "code",
   "execution_count": 1,
   "metadata": {},
   "outputs": [],
   "source": [
    "from tensorflow.keras.datasets import reuters\n",
    "from tensorflow.keras import models, layers\n",
    "import numpy as np\n",
    "import tensorflow as tf"
   ]
  },
  {
   "cell_type": "code",
   "execution_count": 2,
   "metadata": {},
   "outputs": [
    {
     "name": "stderr",
     "output_type": "stream",
     "text": [
      "C:\\Users\\roblima\\Anaconda3\\envs\\tf_no_gpu\\lib\\site-packages\\tensorflow_core\\python\\keras\\datasets\\reuters.py:113: VisibleDeprecationWarning: Creating an ndarray from ragged nested sequences (which is a list-or-tuple of lists-or-tuples-or ndarrays with different lengths or shapes) is deprecated. If you meant to do this, you must specify 'dtype=object' when creating the ndarray\n",
      "  x_train, y_train = np.array(xs[:idx]), np.array(labels[:idx])\n",
      "C:\\Users\\roblima\\Anaconda3\\envs\\tf_no_gpu\\lib\\site-packages\\tensorflow_core\\python\\keras\\datasets\\reuters.py:114: VisibleDeprecationWarning: Creating an ndarray from ragged nested sequences (which is a list-or-tuple of lists-or-tuples-or ndarrays with different lengths or shapes) is deprecated. If you meant to do this, you must specify 'dtype=object' when creating the ndarray\n",
      "  x_test, y_test = np.array(xs[idx:]), np.array(labels[idx:])\n"
     ]
    }
   ],
   "source": [
    "(train_data, train_labels), (test_data, test_labels) = reuters.load_data(num_words=10000)"
   ]
  },
  {
   "cell_type": "code",
   "execution_count": 3,
   "metadata": {},
   "outputs": [
    {
     "name": "stdout",
     "output_type": "stream",
     "text": [
      "? ? ? said as a result of its december acquisition of space co it expects earnings per share in 1987 of 1 15 to 1 30 dlrs per share up from 70 cts in 1986 the company said pretax net should rise to nine to 10 mln dlrs from six mln dlrs in 1986 and rental operation revenues to 19 to 22 mln dlrs from 12 5 mln dlrs it said cash flow per share this year should be 2 50 to three dlrs reuter 3\n"
     ]
    }
   ],
   "source": [
    "word_index = reuters.get_word_index()\n",
    "reversed_word_index = dict([(value, key) for (key, value) in word_index.items()])\n",
    "decoded_newswire = ' '.join([reversed_word_index.get(i-3, '?') for i in train_data[0]])\n",
    "print(decoded_newswire)"
   ]
  },
  {
   "cell_type": "code",
   "execution_count": 4,
   "metadata": {},
   "outputs": [],
   "source": [
    "def vectorize_sequences(sequences, dimension=10000):\n",
    "    results = np.zeros((len(sequences), dimension))\n",
    "    for i, sequence in enumerate(sequences):\n",
    "        results[i, sequence] = 1\n",
    "    return results\n",
    "\n",
    "x_train = vectorize_sequences(train_data)\n",
    "x_test = vectorize_sequences(test_data)"
   ]
  },
  {
   "cell_type": "code",
   "execution_count": 5,
   "metadata": {},
   "outputs": [],
   "source": [
    "def to_one_hot(labels, dimension=46):\n",
    "    results = np.zeros((len(labels), dimension))\n",
    "    for i, label in enumerate(labels):\n",
    "        results[i, label] = 1\n",
    "    return results\n",
    "\n",
    "one_hot_train_labels = to_one_hot(train_labels)\n",
    "one_hot_test_labels = to_one_hot(test_labels)\n",
    "\n",
    "x_val = x_train[:1000]\n",
    "partial_x_train = x_train[1000:]\n",
    "\n",
    "y_val = one_hot_train_labels[:1000]\n",
    "partial_y_train = one_hot_train_labels[1000:]"
   ]
  },
  {
   "cell_type": "code",
   "execution_count": 6,
   "metadata": {},
   "outputs": [
    {
     "name": "stdout",
     "output_type": "stream",
     "text": [
      "Train on 7982 samples, validate on 1000 samples\n",
      "Epoch 1/20\n",
      "7982/7982 [==============================] - 1s 129us/sample - loss: 2.6954 - accuracy: 0.5173 - val_loss: 1.7766 - val_accuracy: 0.6200\n",
      "Epoch 2/20\n",
      "7982/7982 [==============================] - 1s 64us/sample - loss: 1.4666 - accuracy: 0.6908 - val_loss: 1.3436 - val_accuracy: 0.6970\n",
      "Epoch 3/20\n",
      "7982/7982 [==============================] - 1s 65us/sample - loss: 1.0838 - accuracy: 0.7706 - val_loss: 1.1602 - val_accuracy: 0.7650\n",
      "Epoch 4/20\n",
      "7982/7982 [==============================] - 1s 65us/sample - loss: 0.8523 - accuracy: 0.8185 - val_loss: 1.0463 - val_accuracy: 0.7810\n",
      "Epoch 5/20\n",
      "7982/7982 [==============================] - 1s 66us/sample - loss: 0.6798 - accuracy: 0.8559 - val_loss: 0.9801 - val_accuracy: 0.8010\n",
      "Epoch 6/20\n",
      "7982/7982 [==============================] - 1s 69us/sample - loss: 0.5412 - accuracy: 0.8855 - val_loss: 0.9275 - val_accuracy: 0.8070\n",
      "Epoch 7/20\n",
      "7982/7982 [==============================] - 1s 66us/sample - loss: 0.4367 - accuracy: 0.9078 - val_loss: 0.9006 - val_accuracy: 0.8110\n",
      "Epoch 8/20\n",
      "7982/7982 [==============================] - 1s 66us/sample - loss: 0.3537 - accuracy: 0.9241 - val_loss: 0.8825 - val_accuracy: 0.8170\n",
      "Epoch 9/20\n",
      "7982/7982 [==============================] - 1s 66us/sample - loss: 0.2890 - accuracy: 0.9379 - val_loss: 0.9064 - val_accuracy: 0.8090\n",
      "Epoch 10/20\n",
      "7982/7982 [==============================] - 1s 66us/sample - loss: 0.2472 - accuracy: 0.9444 - val_loss: 0.8949 - val_accuracy: 0.8220\n",
      "Epoch 11/20\n",
      "7982/7982 [==============================] - 1s 65us/sample - loss: 0.2085 - accuracy: 0.9484 - val_loss: 0.9324 - val_accuracy: 0.8140\n",
      "Epoch 12/20\n",
      "7982/7982 [==============================] - 1s 66us/sample - loss: 0.1839 - accuracy: 0.9521 - val_loss: 0.9113 - val_accuracy: 0.8130\n",
      "Epoch 13/20\n",
      "7982/7982 [==============================] - 1s 66us/sample - loss: 0.1638 - accuracy: 0.9538 - val_loss: 0.9484 - val_accuracy: 0.8080\n",
      "Epoch 14/20\n",
      "7982/7982 [==============================] - 1s 66us/sample - loss: 0.1485 - accuracy: 0.9534 - val_loss: 0.9605 - val_accuracy: 0.8140\n",
      "Epoch 15/20\n",
      "7982/7982 [==============================] - 1s 67us/sample - loss: 0.1368 - accuracy: 0.9582 - val_loss: 0.9818 - val_accuracy: 0.8030\n",
      "Epoch 16/20\n",
      "7982/7982 [==============================] - 1s 66us/sample - loss: 0.1314 - accuracy: 0.9548 - val_loss: 1.0066 - val_accuracy: 0.8060\n",
      "Epoch 17/20\n",
      "7982/7982 [==============================] - 1s 66us/sample - loss: 0.1226 - accuracy: 0.9568 - val_loss: 0.9847 - val_accuracy: 0.8160\n",
      "Epoch 18/20\n",
      "7982/7982 [==============================] - 1s 67us/sample - loss: 0.1161 - accuracy: 0.9580 - val_loss: 1.0235 - val_accuracy: 0.8020\n",
      "Epoch 19/20\n",
      "7982/7982 [==============================] - 1s 66us/sample - loss: 0.1147 - accuracy: 0.9562 - val_loss: 1.0438 - val_accuracy: 0.8050\n",
      "Epoch 20/20\n",
      "7982/7982 [==============================] - 1s 66us/sample - loss: 0.1099 - accuracy: 0.9562 - val_loss: 1.0367 - val_accuracy: 0.8080\n"
     ]
    }
   ],
   "source": [
    "model = models.Sequential()\n",
    "model.add(layers.Dense(64, activation='relu', input_shape = (10000,)))\n",
    "model.add(layers.Dense(64, activation='relu'))\n",
    "model.add(layers.Dense(46, activation='softmax'))\n",
    "\n",
    "model.compile(optimizer='rmsprop', loss='categorical_crossentropy', metrics=['accuracy'])\n",
    "\n",
    "history = model.fit(partial_x_train, partial_y_train, epochs=20, batch_size=512, validation_data=(x_val, y_val))"
   ]
  },
  {
   "cell_type": "code",
   "execution_count": 7,
   "metadata": {},
   "outputs": [
    {
     "data": {
      "image/png": "[encoded data removed]",
      "text/plain": [
       "<Figure size 432x288 with 1 Axes>"
      ]
     },
     "metadata": {
      "needs_background": "light"
     },
     "output_type": "display_data"
    },
    {
     "data": {
      "image/png": "[encoded data removed]",
      "text/plain": [
       "<Figure size 432x288 with 1 Axes>"
      ]
     },
     "metadata": {
      "needs_background": "light"
     },
     "output_type": "display_data"
    }
   ],
   "source": [
    "import matplotlib.pyplot as plt\n",
    "\n",
    "loss = history.history['loss']\n",
    "val_loss = history.history['val_loss']\n",
    "\n",
    "epochs = range(1, len(loss) + 1)\n",
    "\n",
    "plt.plot(epochs, loss, 'bo', label='Training loss')\n",
    "plt.plot(epochs, val_loss, 'b', label='Validation loss')\n",
    "plt.title('Training and validation loss')\n",
    "plt.xlabel('Epochs')\n",
    "plt.ylabel('Loss')\n",
    "plt.legend()\n",
    "plt.show()\n",
    "\n",
    "\n",
    "acc = history.history['accuracy']\n",
    "val_acc = history.history['val_accuracy']\n",
    "plt.clf()\n",
    "plt.plot(epochs, acc, 'bo', label='Training acc')\n",
    "plt.plot(epochs, val_acc, 'b', label='Validation acc')\n",
    "plt.title('Training and validation accuracy')\n",
    "plt.xlabel('Epochs')\n",
    "plt.ylabel('Accuracy')\n",
    "plt.legend()\n",
    "plt.show()\n"
   ]
  },
  {
   "cell_type": "code",
   "execution_count": 8,
   "metadata": {},
   "outputs": [
    {
     "name": "stdout",
     "output_type": "stream",
     "text": [
      "Train on 7982 samples, validate on 1000 samples\n",
      "Epoch 1/8\n",
      "7982/7982 [==============================] - 1s 125us/sample - loss: 2.5280 - accuracy: 0.5350 - val_loss: 1.6365 - val_accuracy: 0.6570\n",
      "Epoch 2/8\n",
      "7982/7982 [==============================] - 1s 64us/sample - loss: 1.3438 - accuracy: 0.7177 - val_loss: 1.2589 - val_accuracy: 0.7310\n",
      "Epoch 3/8\n",
      "7982/7982 [==============================] - 1s 65us/sample - loss: 0.9976 - accuracy: 0.7806 - val_loss: 1.1059 - val_accuracy: 0.7560\n",
      "Epoch 4/8\n",
      "7982/7982 [==============================] - 1s 70us/sample - loss: 0.7839 - accuracy: 0.8325 - val_loss: 1.0159 - val_accuracy: 0.7790\n",
      "Epoch 5/8\n",
      "7982/7982 [==============================] - 1s 67us/sample - loss: 0.6274 - accuracy: 0.8688 - val_loss: 1.0083 - val_accuracy: 0.7860\n",
      "Epoch 6/8\n",
      "7982/7982 [==============================] - 1s 70us/sample - loss: 0.5007 - accuracy: 0.8965 - val_loss: 0.9197 - val_accuracy: 0.8050\n",
      "Epoch 7/8\n",
      "7982/7982 [==============================] - 1s 67us/sample - loss: 0.4034 - accuracy: 0.9171 - val_loss: 0.9168 - val_accuracy: 0.8110\n",
      "Epoch 8/8\n",
      "7982/7982 [==============================] - 0s 62us/sample - loss: 0.3322 - accuracy: 0.9295 - val_loss: 0.8871 - val_accuracy: 0.8120\n"
     ]
    }
   ],
   "source": [
    "model = models.Sequential()\n",
    "model.add(layers.Dense(64, activation='relu', input_shape = (10000,)))\n",
    "model.add(layers.Dense(64, activation='relu'))\n",
    "model.add(layers.Dense(46, activation='softmax'))\n",
    "\n",
    "model.compile(optimizer='rmsprop', loss='categorical_crossentropy', metrics=['accuracy'])\n",
    "\n",
    "history = model.fit(partial_x_train, partial_y_train, epochs=8, batch_size=512, validation_data=(x_val, y_val))"
   ]
  },
  {
   "cell_type": "code",
   "execution_count": 9,
   "metadata": {},
   "outputs": [
    {
     "name": "stdout",
     "output_type": "stream",
     "text": [
      "2246/2246 [==============================] - 0s 78us/sample - loss: 0.9740 - accuracy: 0.7903\n"
     ]
    }
   ],
   "source": [
    "results = model.evaluate(x_test, one_hot_test_labels)"
   ]
  },
  {
   "cell_type": "code",
   "execution_count": 32,
   "metadata": {},
   "outputs": [
    {
     "name": "stdout",
     "output_type": "stream",
     "text": [
      "Train on 7982 samples, validate on 1000 samples\n",
      "Epoch 1/8\n",
      "7982/7982 [==============================] - 1s 140us/sample - loss: 2.6313 - accuracy: 0.5227 - val_loss: 1.7021 - val_accuracy: 0.6330\n",
      "Epoch 2/8\n",
      "7982/7982 [==============================] - 1s 64us/sample - loss: 1.4003 - accuracy: 0.6966 - val_loss: 1.3027 - val_accuracy: 0.7140\n",
      "Epoch 3/8\n",
      "7982/7982 [==============================] - 1s 64us/sample - loss: 1.0490 - accuracy: 0.7691 - val_loss: 1.1531 - val_accuracy: 0.7500\n",
      "Epoch 4/8\n",
      "7982/7982 [==============================] - 1s 69us/sample - loss: 0.8351 - accuracy: 0.8220 - val_loss: 1.0262 - val_accuracy: 0.7890\n",
      "Epoch 5/8\n",
      "7982/7982 [==============================] - 1s 71us/sample - loss: 0.6687 - accuracy: 0.8583 - val_loss: 0.9617 - val_accuracy: 0.8030\n",
      "Epoch 6/8\n",
      "7982/7982 [==============================] - 1s 67us/sample - loss: 0.5333 - accuracy: 0.8889 - val_loss: 0.9125 - val_accuracy: 0.8130\n",
      "Epoch 7/8\n",
      "7982/7982 [==============================] - 1s 65us/sample - loss: 0.4336 - accuracy: 0.9067 - val_loss: 0.9081 - val_accuracy: 0.8140\n",
      "Epoch 8/8\n",
      "7982/7982 [==============================] - 1s 63us/sample - loss: 0.3536 - accuracy: 0.9252 - val_loss: 0.8844 - val_accuracy: 0.8160\n",
      "2246/2246 [==============================] - 0s 77us/sample - loss: 0.9763 - accuracy: 0.7854\n"
     ]
    }
   ],
   "source": [
    "y_val = train_labels[:1000]\n",
    "partial_y_train = train_labels[1000:]\n",
    "\n",
    "model = models.Sequential()\n",
    "model.add(layers.Dense(64, activation='relu', input_shape = (10000,)))\n",
    "model.add(layers.Dense(64, activation='relu'))\n",
    "model.add(layers.Dense(46, activation='softmax'))\n",
    "\n",
    "model.compile(optimizer='rmsprop', loss='sparse_categorical_crossentropy', metrics=['accuracy'])\n",
    "\n",
    "history = model.fit(partial_x_train, partial_y_train, epochs=8, batch_size=512, validation_data=(x_val, y_val))\n",
    "results = model.evaluate(x_test, test_labels)"
   ]
  },
  {
   "cell_type": "code",
   "execution_count": 30,
   "metadata": {},
   "outputs": [
    {
     "data": {
      "text/plain": [
       "0.7911843276936776"
      ]
     },
     "execution_count": 30,
     "metadata": {},
     "output_type": "execute_result"
    }
   ],
   "source": [
    "pred_labels = np.argmax(model.predict(x_test), 1)\n",
    "\n",
    "sum(pred_labels == test_labels)/len(pred_labels)"
   ]
  },
  {
   "cell_type": "code",
   "execution_count": null,
   "metadata": {},
   "outputs": [],
   "source": []
  }
 ],
 "metadata": {
  "kernelspec": {
   "display_name": "Python 3",
   "language": "python",
   "name": "python3"
  },
  "language_info": {
   "codemirror_mode": {
    "name": "ipython",
    "version": 3
   },
   "file_extension": ".py",
   "mimetype": "text/x-python",
   "name": "python",
   "nbconvert_exporter": "python",
   "pygments_lexer": "ipython3",
   "version": "3.7.9"
  }
 },
 "nbformat": 4,
 "nbformat_minor": 4
}
